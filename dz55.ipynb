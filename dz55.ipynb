{
 "cells": [
  {
   "cell_type": "markdown",
   "id": "e85ca841",
   "metadata": {},
   "source": [
    "# Spark Apache (семинары)\n",
    "\n",
    "## Урок 5. Spark on scala\n",
    "\n",
    "Условие: создайте csv файл с таким содержимым:\n",
    "\n",
    "```\n",
    "title,author,genre,sales,year\n",
    "\"1984\", \"George Orwell\", \"Science Fiction\", 5000, 1949\n",
    "\"The Lord of the Rings\", \"J.R.R. Tolkien\", \"Fantasy\", 3000, 1954\n",
    "\"To Kill a Mockingbird\", \"Harper Lee\", \"Southern Gothic\", 4000, 1960\n",
    "\"The Catcher in the Rye\", \"J.D. Salinger\", \"Novel\", 2000, 1951\n",
    "\"The Great Gatsby\", \"F. Scott Fitzgerald\", \"Novel\", 4500, 1925\n",
    "```\n",
    "\n",
    "Задание:\n",
    "\n",
    "- Используя Spark прочитайте данные из файла csv.\n",
    "\n",
    "- Фильтруйте данные, чтобы оставить только книги, продажи которых превышают 3000 экземпляров.\n",
    "\n",
    "- Сгруппируйте данные по жанру и вычислите общий объем продаж для каждого жанра.\n",
    "\n",
    "- Отсортируйте данные по общему объему продаж в порядке убывания.\n",
    "\n",
    "- Выведите результаты на экран.\n"
   ]
  },
  {
   "cell_type": "code",
   "execution_count": 12,
   "id": "f9a4fea4",
   "metadata": {},
   "outputs": [
    {
     "name": "stdout",
     "output_type": "stream",
     "text": [
      "Исходный датасет:\n",
      "+--------------------+--------------------+------------------+-----+-----+\n",
      "|               title|              author|             genre|sales| year|\n",
      "+--------------------+--------------------+------------------+-----+-----+\n",
      "|                1984|     \"George Orwell\"| \"Science Fiction\"| 5000| 1949|\n",
      "|The Lord of the R...|    \"J.R.R. Tolkien\"|         \"Fantasy\"| 3000| 1954|\n",
      "|To Kill a Mocking...|        \"Harper Lee\"| \"Southern Gothic\"| 4000| 1960|\n",
      "|The Catcher in th...|     \"J.D. Salinger\"|           \"Novel\"| 2000| 1951|\n",
      "|    The Great Gatsby| \"F. Scott Fitzge...|           \"Novel\"| 4500| 1925|\n",
      "+--------------------+--------------------+------------------+-----+-----+\n",
      "\n",
      "Фильтрация по продажам (более 3000 экземпляров):\n",
      "+--------------------+--------------------+------------------+-----+-----+\n",
      "|               title|              author|             genre|sales| year|\n",
      "+--------------------+--------------------+------------------+-----+-----+\n",
      "|                1984|     \"George Orwell\"| \"Science Fiction\"| 5000| 1949|\n",
      "|To Kill a Mocking...|        \"Harper Lee\"| \"Southern Gothic\"| 4000| 1960|\n",
      "|    The Great Gatsby| \"F. Scott Fitzge...|           \"Novel\"| 4500| 1925|\n",
      "+--------------------+--------------------+------------------+-----+-----+\n",
      "\n",
      "Общие объемы продаж по жанрам в порядке убывания:\n",
      "+------------------+------------------+\n",
      "|             genre|sum_sales_by_genre|\n",
      "+------------------+------------------+\n",
      "|           \"Novel\"|            6500.0|\n",
      "| \"Science Fiction\"|            5000.0|\n",
      "| \"Southern Gothic\"|            4000.0|\n",
      "|         \"Fantasy\"|            3000.0|\n",
      "+------------------+------------------+\n",
      "\n"
     ]
    }
   ],
   "source": [
    "from pyspark.sql import SparkSession\n",
    "from pyspark.sql.window import Window\n",
    "import pyspark.sql.functions as fn\n",
    "from pyspark.sql.types import DoubleType\n",
    "\n",
    "# Создание Spark сессии\n",
    "spark = SparkSession.builder.appName(\"Homework5\").getOrCreate()\n",
    "\n",
    "# Загрузка данных\n",
    "df = spark.read.option(\"header\",True).csv(\"books.csv\")\n",
    "print(\"Исходный датасет:\")\n",
    "df.show()\n",
    "\n",
    "# Фильтрация данных, чтобы оставить только книги, продажи которых превышают 3000 экземпляров\n",
    "filtered_df = df.filter(df.sales > 3000)\n",
    "print(\"Фильтрация по продажам (более 3000 экземпляров):\")\n",
    "filtered_df.show()\n",
    "\n",
    "# Группировка данных по жанру и вычисление общего объема продаж для каждого жанра\n",
    "window_spec = Window.partitionBy(\"genre\") \n",
    "sum_sales_by_genre = fn.sum(\"sales\").over(window_spec)\n",
    "sum_sales_by_genre_df = df.withColumn(\"sum_sales_by_genre\", sum_sales_by_genre)\n",
    "# Сортировка данных по общему объему продаж в порядке убывания и вывод результатов:\n",
    "print(\"Общие объемы продаж по жанрам в порядке убывания:\")\n",
    "sum_sales_by_genre_df.select([\"genre\", \"sum_sales_by_genre\"]).distinct() \\\n",
    "    .orderBy(sum_sales_by_genre_df.sum_sales_by_genre.desc()).show()"
   ]
  },
  {
   "cell_type": "code",
   "execution_count": null,
   "id": "084392c9",
   "metadata": {},
   "outputs": [],
   "source": []
  }
 ],
 "metadata": {
  "kernelspec": {
   "display_name": "Python 3 (ipykernel)",
   "language": "python",
   "name": "python3"
  },
  "language_info": {
   "codemirror_mode": {
    "name": "ipython",
    "version": 3
   },
   "file_extension": ".py",
   "mimetype": "text/x-python",
   "name": "python",
   "nbconvert_exporter": "python",
   "pygments_lexer": "ipython3",
   "version": "3.8.10"
  }
 },
 "nbformat": 4,
 "nbformat_minor": 5
}
